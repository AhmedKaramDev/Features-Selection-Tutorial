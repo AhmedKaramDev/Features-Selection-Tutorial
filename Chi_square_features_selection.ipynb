{
  "nbformat": 4,
  "nbformat_minor": 0,
  "metadata": {
    "kernelspec": {
      "display_name": "Python 3",
      "language": "python",
      "name": "python3"
    },
    "language_info": {
      "codemirror_mode": {
        "name": "ipython",
        "version": 3
      },
      "file_extension": ".py",
      "mimetype": "text/x-python",
      "name": "python",
      "nbconvert_exporter": "python",
      "pygments_lexer": "ipython3",
      "version": "3.8.5"
    },
    "colab": {
      "name": "Chi square - features selection.ipynb",
      "provenance": [],
      "include_colab_link": true
    }
  },
  "cells": [
    {
      "cell_type": "markdown",
      "metadata": {
        "id": "view-in-github",
        "colab_type": "text"
      },
      "source": [
        "<a href=\"https://colab.research.google.com/github/AhmedKaramDev/Features-Selection-Tutorial/blob/master/Chi_square_features_selection.ipynb\" target=\"_parent\"><img src=\"https://colab.research.google.com/assets/colab-badge.svg\" alt=\"Open In Colab\"/></a>"
      ]
    },
    {
      "cell_type": "markdown",
      "metadata": {
        "id": "XR4CFEA5_eRT"
      },
      "source": [
        "# Feature Selection: Filter Methods - Supervised Learning - Chi Square "
      ]
    },
    {
      "cell_type": "markdown",
      "metadata": {
        "id": "e6jWURMW_eRX"
      },
      "source": [
        "### Import Needed Packages"
      ]
    },
    {
      "cell_type": "code",
      "metadata": {
        "id": "3WxMyGzW_eRX"
      },
      "source": [
        "import pandas as pd # to read data\n",
        "from sklearn.feature_selection import SelectKBest # the function that select the features\n",
        "from sklearn.feature_selection import chi2 # the features will be filtered based on chi square function "
      ],
      "execution_count": null,
      "outputs": []
    },
    {
      "cell_type": "code",
      "metadata": {
        "id": "eUGw-A7M_eRY",
        "outputId": "6e1b8dbf-5304-4d8a-99b0-8b4f16c7b06c"
      },
      "source": [
        "# load and see samples of the data\n",
        "data = pd.read_csv(\"mobile_data.csv\")\n",
        "data.head()"
      ],
      "execution_count": null,
      "outputs": [
        {
          "data": {
            "text/html": [
              "<div>\n",
              "<style scoped>\n",
              "    .dataframe tbody tr th:only-of-type {\n",
              "        vertical-align: middle;\n",
              "    }\n",
              "\n",
              "    .dataframe tbody tr th {\n",
              "        vertical-align: top;\n",
              "    }\n",
              "\n",
              "    .dataframe thead th {\n",
              "        text-align: right;\n",
              "    }\n",
              "</style>\n",
              "<table border=\"1\" class=\"dataframe\">\n",
              "  <thead>\n",
              "    <tr style=\"text-align: right;\">\n",
              "      <th></th>\n",
              "      <th>battery_power</th>\n",
              "      <th>blue</th>\n",
              "      <th>clock_speed</th>\n",
              "      <th>dual_sim</th>\n",
              "      <th>fc</th>\n",
              "      <th>four_g</th>\n",
              "      <th>int_memory</th>\n",
              "      <th>m_dep</th>\n",
              "      <th>mobile_wt</th>\n",
              "      <th>n_cores</th>\n",
              "      <th>...</th>\n",
              "      <th>px_height</th>\n",
              "      <th>px_width</th>\n",
              "      <th>ram</th>\n",
              "      <th>sc_h</th>\n",
              "      <th>sc_w</th>\n",
              "      <th>talk_time</th>\n",
              "      <th>three_g</th>\n",
              "      <th>touch_screen</th>\n",
              "      <th>wifi</th>\n",
              "      <th>price_range</th>\n",
              "    </tr>\n",
              "  </thead>\n",
              "  <tbody>\n",
              "    <tr>\n",
              "      <th>0</th>\n",
              "      <td>842</td>\n",
              "      <td>0</td>\n",
              "      <td>2.2</td>\n",
              "      <td>0</td>\n",
              "      <td>1</td>\n",
              "      <td>0</td>\n",
              "      <td>7</td>\n",
              "      <td>0.6</td>\n",
              "      <td>188</td>\n",
              "      <td>2</td>\n",
              "      <td>...</td>\n",
              "      <td>20</td>\n",
              "      <td>756</td>\n",
              "      <td>2549</td>\n",
              "      <td>9</td>\n",
              "      <td>7</td>\n",
              "      <td>19</td>\n",
              "      <td>0</td>\n",
              "      <td>0</td>\n",
              "      <td>1</td>\n",
              "      <td>1</td>\n",
              "    </tr>\n",
              "    <tr>\n",
              "      <th>1</th>\n",
              "      <td>1021</td>\n",
              "      <td>1</td>\n",
              "      <td>0.5</td>\n",
              "      <td>1</td>\n",
              "      <td>0</td>\n",
              "      <td>1</td>\n",
              "      <td>53</td>\n",
              "      <td>0.7</td>\n",
              "      <td>136</td>\n",
              "      <td>3</td>\n",
              "      <td>...</td>\n",
              "      <td>905</td>\n",
              "      <td>1988</td>\n",
              "      <td>2631</td>\n",
              "      <td>17</td>\n",
              "      <td>3</td>\n",
              "      <td>7</td>\n",
              "      <td>1</td>\n",
              "      <td>1</td>\n",
              "      <td>0</td>\n",
              "      <td>2</td>\n",
              "    </tr>\n",
              "    <tr>\n",
              "      <th>2</th>\n",
              "      <td>563</td>\n",
              "      <td>1</td>\n",
              "      <td>0.5</td>\n",
              "      <td>1</td>\n",
              "      <td>2</td>\n",
              "      <td>1</td>\n",
              "      <td>41</td>\n",
              "      <td>0.9</td>\n",
              "      <td>145</td>\n",
              "      <td>5</td>\n",
              "      <td>...</td>\n",
              "      <td>1263</td>\n",
              "      <td>1716</td>\n",
              "      <td>2603</td>\n",
              "      <td>11</td>\n",
              "      <td>2</td>\n",
              "      <td>9</td>\n",
              "      <td>1</td>\n",
              "      <td>1</td>\n",
              "      <td>0</td>\n",
              "      <td>2</td>\n",
              "    </tr>\n",
              "    <tr>\n",
              "      <th>3</th>\n",
              "      <td>615</td>\n",
              "      <td>1</td>\n",
              "      <td>2.5</td>\n",
              "      <td>0</td>\n",
              "      <td>0</td>\n",
              "      <td>0</td>\n",
              "      <td>10</td>\n",
              "      <td>0.8</td>\n",
              "      <td>131</td>\n",
              "      <td>6</td>\n",
              "      <td>...</td>\n",
              "      <td>1216</td>\n",
              "      <td>1786</td>\n",
              "      <td>2769</td>\n",
              "      <td>16</td>\n",
              "      <td>8</td>\n",
              "      <td>11</td>\n",
              "      <td>1</td>\n",
              "      <td>0</td>\n",
              "      <td>0</td>\n",
              "      <td>2</td>\n",
              "    </tr>\n",
              "    <tr>\n",
              "      <th>4</th>\n",
              "      <td>1821</td>\n",
              "      <td>1</td>\n",
              "      <td>1.2</td>\n",
              "      <td>0</td>\n",
              "      <td>13</td>\n",
              "      <td>1</td>\n",
              "      <td>44</td>\n",
              "      <td>0.6</td>\n",
              "      <td>141</td>\n",
              "      <td>2</td>\n",
              "      <td>...</td>\n",
              "      <td>1208</td>\n",
              "      <td>1212</td>\n",
              "      <td>1411</td>\n",
              "      <td>8</td>\n",
              "      <td>2</td>\n",
              "      <td>15</td>\n",
              "      <td>1</td>\n",
              "      <td>1</td>\n",
              "      <td>0</td>\n",
              "      <td>1</td>\n",
              "    </tr>\n",
              "  </tbody>\n",
              "</table>\n",
              "<p>5 rows × 21 columns</p>\n",
              "</div>"
            ],
            "text/plain": [
              "   battery_power  blue  clock_speed  dual_sim  fc  four_g  int_memory  m_dep  \\\n",
              "0            842     0          2.2         0   1       0           7    0.6   \n",
              "1           1021     1          0.5         1   0       1          53    0.7   \n",
              "2            563     1          0.5         1   2       1          41    0.9   \n",
              "3            615     1          2.5         0   0       0          10    0.8   \n",
              "4           1821     1          1.2         0  13       1          44    0.6   \n",
              "\n",
              "   mobile_wt  n_cores  ...  px_height  px_width   ram  sc_h  sc_w  talk_time  \\\n",
              "0        188        2  ...         20       756  2549     9     7         19   \n",
              "1        136        3  ...        905      1988  2631    17     3          7   \n",
              "2        145        5  ...       1263      1716  2603    11     2          9   \n",
              "3        131        6  ...       1216      1786  2769    16     8         11   \n",
              "4        141        2  ...       1208      1212  1411     8     2         15   \n",
              "\n",
              "   three_g  touch_screen  wifi  price_range  \n",
              "0        0             0     1            1  \n",
              "1        1             1     0            2  \n",
              "2        1             1     0            2  \n",
              "3        1             0     0            2  \n",
              "4        1             1     0            1  \n",
              "\n",
              "[5 rows x 21 columns]"
            ]
          },
          "execution_count": 2,
          "metadata": {},
          "output_type": "execute_result"
        }
      ]
    },
    {
      "cell_type": "code",
      "metadata": {
        "id": "R6DLSH4j_eRZ",
        "outputId": "2ac620d0-96fe-42ca-cc4c-28a8282ad861"
      },
      "source": [
        "# check how many labels we have\n",
        "data.price_range.value_counts()"
      ],
      "execution_count": null,
      "outputs": [
        {
          "data": {
            "text/plain": [
              "3    500\n",
              "2    500\n",
              "1    500\n",
              "0    500\n",
              "Name: price_range, dtype: int64"
            ]
          },
          "execution_count": 3,
          "metadata": {},
          "output_type": "execute_result"
        }
      ]
    },
    {
      "cell_type": "code",
      "metadata": {
        "id": "WzsvA-YQ_eRZ"
      },
      "source": [
        "X = data.iloc[:,0:20]  # select the features\n",
        "y = data.iloc[:,-1]    # select the target column (price range)"
      ],
      "execution_count": null,
      "outputs": []
    },
    {
      "cell_type": "markdown",
      "metadata": {
        "id": "7vTAS7dG_eRa"
      },
      "source": [
        "# ----------------- Explain How Chi Square works (optional)----------------"
      ]
    },
    {
      "cell_type": "code",
      "metadata": {
        "id": "4YgV3P06_eRa"
      },
      "source": [
        "from sklearn.preprocessing import LabelBinarizer\n",
        "import numpy as np\n",
        "from sklearn.utils.extmath import safe_sparse_dot"
      ],
      "execution_count": null,
      "outputs": []
    },
    {
      "cell_type": "code",
      "metadata": {
        "id": "v9d4DJRZ_eRb"
      },
      "source": [
        "Y = LabelBinarizer().fit_transform(y)\n",
        "if Y.shape[1] == 1:\n",
        "    Y = np.append(1 - Y, Y, axis=1)\n",
        "\n",
        "observed = safe_sparse_dot(Y.T, X)  # n_classes * n_features\n",
        "\n",
        "feature_count = X.sum(axis=0).reshape(1, -1)\n",
        "class_prob = Y.mean(axis=0).reshape(1, -1)\n",
        "expected = np.dot(class_prob.T, feature_count)"
      ],
      "execution_count": null,
      "outputs": []
    },
    {
      "cell_type": "code",
      "metadata": {
        "id": "LB0U986n_eRb"
      },
      "source": [
        "Y = LabelBinarizer().fit_transform(y)"
      ],
      "execution_count": null,
      "outputs": []
    },
    {
      "cell_type": "code",
      "metadata": {
        "id": "WBKL1KTd_eRc",
        "outputId": "82f90678-ab54-46ba-8bc7-70bd75ace5f8"
      },
      "source": [
        "Y"
      ],
      "execution_count": null,
      "outputs": [
        {
          "data": {
            "text/plain": [
              "array([[0, 1, 0, 0],\n",
              "       [0, 0, 1, 0],\n",
              "       [0, 0, 1, 0],\n",
              "       ...,\n",
              "       [0, 0, 0, 1],\n",
              "       [1, 0, 0, 0],\n",
              "       [0, 0, 0, 1]])"
            ]
          },
          "execution_count": 9,
          "metadata": {},
          "output_type": "execute_result"
        }
      ]
    },
    {
      "cell_type": "code",
      "metadata": {
        "id": "8Rkh6U-i_eRc",
        "outputId": "a9a1d1b3-68a7-4af6-d02d-5022d88a585d"
      },
      "source": [
        "safe_sparse_dot(Y.T, X)"
      ],
      "execution_count": null,
      "outputs": [
        {
          "data": {
            "text/html": [
              "<div>\n",
              "<style scoped>\n",
              "    .dataframe tbody tr th:only-of-type {\n",
              "        vertical-align: middle;\n",
              "    }\n",
              "\n",
              "    .dataframe tbody tr th {\n",
              "        vertical-align: top;\n",
              "    }\n",
              "\n",
              "    .dataframe thead th {\n",
              "        text-align: right;\n",
              "    }\n",
              "</style>\n",
              "<table border=\"1\" class=\"dataframe\">\n",
              "  <thead>\n",
              "    <tr style=\"text-align: right;\">\n",
              "      <th></th>\n",
              "      <th>battery_power</th>\n",
              "      <th>blue</th>\n",
              "      <th>clock_speed</th>\n",
              "      <th>dual_sim</th>\n",
              "      <th>fc</th>\n",
              "      <th>four_g</th>\n",
              "      <th>int_memory</th>\n",
              "      <th>m_dep</th>\n",
              "      <th>mobile_wt</th>\n",
              "      <th>n_cores</th>\n",
              "      <th>pc</th>\n",
              "      <th>px_height</th>\n",
              "      <th>px_width</th>\n",
              "      <th>ram</th>\n",
              "      <th>sc_h</th>\n",
              "      <th>sc_w</th>\n",
              "      <th>talk_time</th>\n",
              "      <th>three_g</th>\n",
              "      <th>touch_screen</th>\n",
              "      <th>wifi</th>\n",
              "    </tr>\n",
              "  </thead>\n",
              "  <tbody>\n",
              "    <tr>\n",
              "      <th>0</th>\n",
              "      <td>558451.0</td>\n",
              "      <td>243.0</td>\n",
              "      <td>775.1</td>\n",
              "      <td>250.0</td>\n",
              "      <td>2042.0</td>\n",
              "      <td>259.0</td>\n",
              "      <td>15587.0</td>\n",
              "      <td>245.1</td>\n",
              "      <td>70276.0</td>\n",
              "      <td>2300.0</td>\n",
              "      <td>4787.0</td>\n",
              "      <td>268204.0</td>\n",
              "      <td>575135.0</td>\n",
              "      <td>392657.0</td>\n",
              "      <td>6162.0</td>\n",
              "      <td>2841.0</td>\n",
              "      <td>5306.0</td>\n",
              "      <td>373.0</td>\n",
              "      <td>262.0</td>\n",
              "      <td>248.0</td>\n",
              "    </tr>\n",
              "    <tr>\n",
              "      <th>1</th>\n",
              "      <td>614434.0</td>\n",
              "      <td>245.0</td>\n",
              "      <td>744.3</td>\n",
              "      <td>255.0</td>\n",
              "      <td>2170.0</td>\n",
              "      <td>262.0</td>\n",
              "      <td>16058.0</td>\n",
              "      <td>262.0</td>\n",
              "      <td>70255.0</td>\n",
              "      <td>2149.0</td>\n",
              "      <td>4962.0</td>\n",
              "      <td>333446.0</td>\n",
              "      <td>625954.0</td>\n",
              "      <td>839745.0</td>\n",
              "      <td>6106.0</td>\n",
              "      <td>2772.0</td>\n",
              "      <td>5681.0</td>\n",
              "      <td>378.0</td>\n",
              "      <td>261.0</td>\n",
              "      <td>252.0</td>\n",
              "    </tr>\n",
              "    <tr>\n",
              "      <th>2</th>\n",
              "      <td>614160.0</td>\n",
              "      <td>243.0</td>\n",
              "      <td>764.9</td>\n",
              "      <td>249.0</td>\n",
              "      <td>2249.0</td>\n",
              "      <td>247.0</td>\n",
              "      <td>15460.0</td>\n",
              "      <td>245.4</td>\n",
              "      <td>71807.0</td>\n",
              "      <td>2341.0</td>\n",
              "      <td>5009.0</td>\n",
              "      <td>316142.0</td>\n",
              "      <td>617023.0</td>\n",
              "      <td>1291408.0</td>\n",
              "      <td>6005.0</td>\n",
              "      <td>2857.0</td>\n",
              "      <td>5486.0</td>\n",
              "      <td>387.0</td>\n",
              "      <td>235.0</td>\n",
              "      <td>252.0</td>\n",
              "    </tr>\n",
              "    <tr>\n",
              "      <th>3</th>\n",
              "      <td>689992.0</td>\n",
              "      <td>259.0</td>\n",
              "      <td>760.2</td>\n",
              "      <td>265.0</td>\n",
              "      <td>2158.0</td>\n",
              "      <td>275.0</td>\n",
              "      <td>16988.0</td>\n",
              "      <td>251.0</td>\n",
              "      <td>68160.0</td>\n",
              "      <td>2251.0</td>\n",
              "      <td>5075.0</td>\n",
              "      <td>372424.0</td>\n",
              "      <td>684919.0</td>\n",
              "      <td>1724616.0</td>\n",
              "      <td>6340.0</td>\n",
              "      <td>3064.0</td>\n",
              "      <td>5549.0</td>\n",
              "      <td>385.0</td>\n",
              "      <td>248.0</td>\n",
              "      <td>262.0</td>\n",
              "    </tr>\n",
              "  </tbody>\n",
              "</table>\n",
              "</div>"
            ],
            "text/plain": [
              "   battery_power   blue  clock_speed  dual_sim      fc  four_g  int_memory  \\\n",
              "0       558451.0  243.0        775.1     250.0  2042.0   259.0     15587.0   \n",
              "1       614434.0  245.0        744.3     255.0  2170.0   262.0     16058.0   \n",
              "2       614160.0  243.0        764.9     249.0  2249.0   247.0     15460.0   \n",
              "3       689992.0  259.0        760.2     265.0  2158.0   275.0     16988.0   \n",
              "\n",
              "   m_dep  mobile_wt  n_cores      pc  px_height  px_width        ram    sc_h  \\\n",
              "0  245.1    70276.0   2300.0  4787.0   268204.0  575135.0   392657.0  6162.0   \n",
              "1  262.0    70255.0   2149.0  4962.0   333446.0  625954.0   839745.0  6106.0   \n",
              "2  245.4    71807.0   2341.0  5009.0   316142.0  617023.0  1291408.0  6005.0   \n",
              "3  251.0    68160.0   2251.0  5075.0   372424.0  684919.0  1724616.0  6340.0   \n",
              "\n",
              "     sc_w  talk_time  three_g  touch_screen   wifi  \n",
              "0  2841.0     5306.0    373.0         262.0  248.0  \n",
              "1  2772.0     5681.0    378.0         261.0  252.0  \n",
              "2  2857.0     5486.0    387.0         235.0  252.0  \n",
              "3  3064.0     5549.0    385.0         248.0  262.0  "
            ]
          },
          "execution_count": 17,
          "metadata": {},
          "output_type": "execute_result"
        }
      ]
    },
    {
      "cell_type": "code",
      "metadata": {
        "id": "yUIEUEdR_eRc",
        "outputId": "85a50f87-4b58-40c3-e0aa-010b7feafb74"
      },
      "source": [
        "print(data[data.price_range==0]['blue'].sum())\n",
        "print(data[data.price_range==1]['blue'].sum())\n",
        "print(data[data.price_range==2]['blue'].sum())\n",
        "print(data[data.price_range==3]['blue'].sum())"
      ],
      "execution_count": null,
      "outputs": [
        {
          "name": "stdout",
          "output_type": "stream",
          "text": [
            "243\n",
            "245\n",
            "243\n",
            "259\n"
          ]
        }
      ]
    },
    {
      "cell_type": "code",
      "metadata": {
        "id": "RORaeIET_eRd",
        "outputId": "6a728fa2-88ae-41ee-afa8-63441a6cc931"
      },
      "source": [
        "np.array(X).sum(axis=0).reshape(1, -1) # is equal to -->"
      ],
      "execution_count": null,
      "outputs": [
        {
          "data": {
            "text/plain": [
              "array([[2.477037e+06, 9.900000e+02, 3.044500e+03, 1.019000e+03,\n",
              "        8.619000e+03, 1.043000e+03, 6.409300e+04, 1.003500e+03,\n",
              "        2.804980e+05, 9.041000e+03, 1.983300e+04, 1.290216e+06,\n",
              "        2.503031e+06, 4.248426e+06, 2.461300e+04, 1.153400e+04,\n",
              "        2.202200e+04, 1.523000e+03, 1.006000e+03, 1.014000e+03]])"
            ]
          },
          "execution_count": 44,
          "metadata": {},
          "output_type": "execute_result"
        }
      ]
    },
    {
      "cell_type": "code",
      "metadata": {
        "id": "01mlam9-_eRd",
        "outputId": "06a9b446-9c37-42d7-b499-3453d80ef771"
      },
      "source": [
        "X.sum(axis=0)"
      ],
      "execution_count": null,
      "outputs": [
        {
          "data": {
            "text/plain": [
              "battery_power    2477037.0\n",
              "blue                 990.0\n",
              "clock_speed         3044.5\n",
              "dual_sim            1019.0\n",
              "fc                  8619.0\n",
              "four_g              1043.0\n",
              "int_memory         64093.0\n",
              "m_dep               1003.5\n",
              "mobile_wt         280498.0\n",
              "n_cores             9041.0\n",
              "pc                 19833.0\n",
              "px_height        1290216.0\n",
              "px_width         2503031.0\n",
              "ram              4248426.0\n",
              "sc_h               24613.0\n",
              "sc_w               11534.0\n",
              "talk_time          22022.0\n",
              "three_g             1523.0\n",
              "touch_screen        1006.0\n",
              "wifi                1014.0\n",
              "dtype: float64"
            ]
          },
          "execution_count": 39,
          "metadata": {},
          "output_type": "execute_result"
        }
      ]
    },
    {
      "cell_type": "code",
      "metadata": {
        "id": "yzaZNLhG_eRd",
        "outputId": "d1eb87ff-9558-48d8-de6e-a58c27cb07d8"
      },
      "source": [
        "Y.sum(axis=0)"
      ],
      "execution_count": null,
      "outputs": [
        {
          "data": {
            "text/plain": [
              "array([500, 500, 500, 500])"
            ]
          },
          "execution_count": 47,
          "metadata": {},
          "output_type": "execute_result"
        }
      ]
    },
    {
      "cell_type": "code",
      "metadata": {
        "id": "InPwowaw_eRd",
        "outputId": "a175e422-19c3-457d-f753-efde6c6f917f"
      },
      "source": [
        "Y.mean(axis=0).reshape(1, -1)"
      ],
      "execution_count": null,
      "outputs": [
        {
          "data": {
            "text/plain": [
              "array([[0.25, 0.25, 0.25, 0.25]])"
            ]
          },
          "execution_count": 45,
          "metadata": {},
          "output_type": "execute_result"
        }
      ]
    },
    {
      "cell_type": "code",
      "metadata": {
        "id": "eVocLy4i_eRe"
      },
      "source": [
        "np.dot(class_prob.T, feature_count) # 0.25 from class probability is the critical value that we will use"
      ],
      "execution_count": null,
      "outputs": []
    },
    {
      "cell_type": "code",
      "metadata": {
        "id": "e_JLO2r5_eRe"
      },
      "source": [
        ""
      ],
      "execution_count": null,
      "outputs": []
    },
    {
      "cell_type": "markdown",
      "metadata": {
        "id": "CZX3pnPO_eRe"
      },
      "source": [
        "# -----------------------End Optional Part--------------------------------"
      ]
    },
    {
      "cell_type": "code",
      "metadata": {
        "id": "FbuX9cdT_eRe"
      },
      "source": [
        ""
      ],
      "execution_count": null,
      "outputs": []
    },
    {
      "cell_type": "code",
      "metadata": {
        "id": "pDmqUkpw_eRe"
      },
      "source": [
        ""
      ],
      "execution_count": null,
      "outputs": []
    },
    {
      "cell_type": "code",
      "metadata": {
        "id": "HnOD6GBO_eRe"
      },
      "source": [
        "#apply SelectKBest class to extract top 10 best features\n",
        "bestfeatures = SelectKBest(score_func=chi2, k=10)\n",
        "fit = bestfeatures.fit(X,y)"
      ],
      "execution_count": null,
      "outputs": []
    },
    {
      "cell_type": "code",
      "metadata": {
        "id": "e9tN8tNl_eRf"
      },
      "source": [
        "dfscores = pd.DataFrame(fit.scores_)\n",
        "dfcolumns = pd.DataFrame(X.columns)"
      ],
      "execution_count": null,
      "outputs": []
    },
    {
      "cell_type": "code",
      "metadata": {
        "id": "4kDb86rF_eRf"
      },
      "source": [
        "#concat two dataframes for better visualization \n",
        "featureScores = pd.concat([dfcolumns,dfscores],axis=1)"
      ],
      "execution_count": null,
      "outputs": []
    },
    {
      "cell_type": "code",
      "metadata": {
        "id": "Woc9rFBp_eRf",
        "outputId": "0b39d662-b4ed-405c-9056-ee1b1e100da7"
      },
      "source": [
        "featureScores.head()"
      ],
      "execution_count": null,
      "outputs": [
        {
          "data": {
            "text/html": [
              "<div>\n",
              "<style scoped>\n",
              "    .dataframe tbody tr th:only-of-type {\n",
              "        vertical-align: middle;\n",
              "    }\n",
              "\n",
              "    .dataframe tbody tr th {\n",
              "        vertical-align: top;\n",
              "    }\n",
              "\n",
              "    .dataframe thead th {\n",
              "        text-align: right;\n",
              "    }\n",
              "</style>\n",
              "<table border=\"1\" class=\"dataframe\">\n",
              "  <thead>\n",
              "    <tr style=\"text-align: right;\">\n",
              "      <th></th>\n",
              "      <th>0</th>\n",
              "      <th>0</th>\n",
              "    </tr>\n",
              "  </thead>\n",
              "  <tbody>\n",
              "    <tr>\n",
              "      <th>0</th>\n",
              "      <td>battery_power</td>\n",
              "      <td>14129.866576</td>\n",
              "    </tr>\n",
              "    <tr>\n",
              "      <th>1</th>\n",
              "      <td>blue</td>\n",
              "      <td>0.723232</td>\n",
              "    </tr>\n",
              "    <tr>\n",
              "      <th>2</th>\n",
              "      <td>clock_speed</td>\n",
              "      <td>0.648366</td>\n",
              "    </tr>\n",
              "    <tr>\n",
              "      <th>3</th>\n",
              "      <td>dual_sim</td>\n",
              "      <td>0.631011</td>\n",
              "    </tr>\n",
              "    <tr>\n",
              "      <th>4</th>\n",
              "      <td>fc</td>\n",
              "      <td>10.135166</td>\n",
              "    </tr>\n",
              "  </tbody>\n",
              "</table>\n",
              "</div>"
            ],
            "text/plain": [
              "               0             0\n",
              "0  battery_power  14129.866576\n",
              "1           blue      0.723232\n",
              "2    clock_speed      0.648366\n",
              "3       dual_sim      0.631011\n",
              "4             fc     10.135166"
            ]
          },
          "execution_count": 51,
          "metadata": {},
          "output_type": "execute_result"
        }
      ]
    },
    {
      "cell_type": "code",
      "metadata": {
        "id": "1CbGxy_B_eRf",
        "outputId": "66dbaa34-7fad-4fd3-9c88-255c5b243fb1"
      },
      "source": [
        "featureScores.columns = ['Specs','Score']  #naming the dataframe columns\n",
        "print(featureScores.nlargest(10,'Score'))  #print 10 best features"
      ],
      "execution_count": null,
      "outputs": [
        {
          "name": "stdout",
          "output_type": "stream",
          "text": [
            "            Specs          Score\n",
            "13            ram  931267.519053\n",
            "11      px_height   17363.569536\n",
            "0   battery_power   14129.866576\n",
            "12       px_width    9810.586750\n",
            "8       mobile_wt      95.972863\n",
            "6      int_memory      89.839124\n",
            "15           sc_w      16.480319\n",
            "16      talk_time      13.236400\n",
            "4              fc      10.135166\n",
            "14           sc_h       9.614878\n"
          ]
        }
      ]
    },
    {
      "cell_type": "code",
      "metadata": {
        "id": "XFEBOp7s_eRf",
        "outputId": "9ce08254-2df0-4346-ab9d-81c3410fb9b4"
      },
      "source": [
        "featureScores.nlargest(10,'Score')['Specs']"
      ],
      "execution_count": null,
      "outputs": [
        {
          "data": {
            "text/plain": [
              "13              ram\n",
              "11        px_height\n",
              "0     battery_power\n",
              "12         px_width\n",
              "8         mobile_wt\n",
              "6        int_memory\n",
              "15             sc_w\n",
              "16        talk_time\n",
              "4                fc\n",
              "14             sc_h\n",
              "Name: Specs, dtype: object"
            ]
          },
          "execution_count": 53,
          "metadata": {},
          "output_type": "execute_result"
        }
      ]
    },
    {
      "cell_type": "markdown",
      "metadata": {
        "id": "8e-kw1xM_eRg"
      },
      "source": [
        "## Apply the selected features with ML model and comapre the difference"
      ]
    },
    {
      "cell_type": "markdown",
      "metadata": {
        "id": "BdhbTY2p_eRg"
      },
      "source": [
        "### With Normal Data"
      ]
    },
    {
      "cell_type": "code",
      "metadata": {
        "id": "OHBgFHah_eRg"
      },
      "source": [
        "from sklearn import svm\n",
        "from sklearn.metrics import classification_report\n",
        "from datetime import datetime\n",
        "from sklearn.model_selection import train_test_split"
      ],
      "execution_count": null,
      "outputs": []
    },
    {
      "cell_type": "code",
      "metadata": {
        "id": "DC-SZL-3_eRg"
      },
      "source": [
        "# split the data\n",
        "X_train, X_test, y_train, y_test = train_test_split(X, y, random_state=200)"
      ],
      "execution_count": null,
      "outputs": []
    },
    {
      "cell_type": "code",
      "metadata": {
        "id": "ggf2jFvm_eRg"
      },
      "source": [
        "normal_start_time = datetime.now()\n",
        "classifer = svm.SVC()\n",
        "classifer.fit(X_train, y_train)\n",
        "normal_predicted_y = classifer.predict(X_test)\n",
        "normal_end_time = datetime.now()"
      ],
      "execution_count": null,
      "outputs": []
    },
    {
      "cell_type": "markdown",
      "metadata": {
        "id": "Ad6y0co1_eRg"
      },
      "source": [
        "### With Feature Selection"
      ]
    },
    {
      "cell_type": "code",
      "metadata": {
        "id": "3o7FtOhU_eRg"
      },
      "source": [
        "fs_start_time = datetime.now()\n",
        "clf_f = svm.SVC()\n",
        "clf_f.fit(X_train[featureScores.nlargest(10,'Score')['Specs']], y_train)\n",
        "fs_predicted_y = clf_f.predict(X_test[featureScores.nlargest(10,'Score')['Specs']])\n",
        "fs_end_time = datetime.now()"
      ],
      "execution_count": null,
      "outputs": []
    },
    {
      "cell_type": "markdown",
      "metadata": {
        "id": "WQ3-fWTJ_eRh"
      },
      "source": [
        "### Evaluate the Data"
      ]
    },
    {
      "cell_type": "code",
      "metadata": {
        "id": "8wRbNwOp_eRh",
        "outputId": "09701188-4a05-4971-ef98-2fdd2de5a85f"
      },
      "source": [
        "# with all features\n",
        "print(classification_report(y_test,normal_predicted_y))"
      ],
      "execution_count": null,
      "outputs": [
        {
          "name": "stdout",
          "output_type": "stream",
          "text": [
            "              precision    recall  f1-score   support\n",
            "\n",
            "           0       0.96      0.98      0.97       131\n",
            "           1       0.95      0.94      0.95       133\n",
            "           2       0.95      0.90      0.92       118\n",
            "           3       0.93      0.97      0.95       118\n",
            "\n",
            "    accuracy                           0.95       500\n",
            "   macro avg       0.95      0.95      0.95       500\n",
            "weighted avg       0.95      0.95      0.95       500\n",
            "\n"
          ]
        }
      ]
    },
    {
      "cell_type": "code",
      "metadata": {
        "id": "0c7LPpTw_eRh",
        "outputId": "f86ccb3b-a748-4012-db40-aef991fefcce"
      },
      "source": [
        "# with selected features\n",
        "print(classification_report(y_test,fs_predicted_y))"
      ],
      "execution_count": null,
      "outputs": [
        {
          "name": "stdout",
          "output_type": "stream",
          "text": [
            "              precision    recall  f1-score   support\n",
            "\n",
            "           0       0.96      0.98      0.97       131\n",
            "           1       0.95      0.94      0.95       133\n",
            "           2       0.95      0.90      0.92       118\n",
            "           3       0.93      0.97      0.95       118\n",
            "\n",
            "    accuracy                           0.95       500\n",
            "   macro avg       0.95      0.95      0.95       500\n",
            "weighted avg       0.95      0.95      0.95       500\n",
            "\n"
          ]
        }
      ]
    },
    {
      "cell_type": "code",
      "metadata": {
        "id": "1f3ybTOr_eRh",
        "outputId": "fb0aca69-c835-4c24-d9bf-4108f5939e9d"
      },
      "source": [
        "all_f_time = (normal_end_time - normal_start_time).microseconds\n",
        "fs_time = (fs_end_time - fs_start_time).microseconds\n",
        "if fs_time < all_f_time:\n",
        "    print(\"Features selected model take less time\")\n",
        "else:\n",
        "    print(\"All Features model take less time\")"
      ],
      "execution_count": null,
      "outputs": [
        {
          "name": "stdout",
          "output_type": "stream",
          "text": [
            "Features selected model take less time\n"
          ]
        }
      ]
    },
    {
      "cell_type": "code",
      "metadata": {
        "id": "wPWPeTPX_eRh"
      },
      "source": [
        ""
      ],
      "execution_count": null,
      "outputs": []
    }
  ]
}